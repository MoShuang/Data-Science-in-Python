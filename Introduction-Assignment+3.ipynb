{
 "cells": [
  {
   "cell_type": "markdown",
   "metadata": {},
   "source": [
    "---\n",
    "\n",
    "_You are currently looking at **version 1.4** of this notebook. To download notebooks and datafiles, as well as get help on Jupyter notebooks in the Coursera platform, visit the [Jupyter Notebook FAQ](https://www.coursera.org/learn/python-data-analysis/resources/0dhYG) course resource._\n",
    "\n",
    "---\n",
    "#你正在观看的是这个笔记本的1.4版本。想要下载笔记本和数据文件，或者在Coursera平台的朱皮特笔记本获取帮助，请访问以上网址。"
     "#Author:MoShuang"
   ]
  },
  {
   "cell_type": "markdown",
   "metadata": {},
   "source": [
    "# Assignment 3 - More Pandas\n",
    "All questions are weighted the same in this assignment. This assignment requires more individual learning then the last one did - you are encouraged to check out the [pandas documentation](http://pandas.pydata.org/pandas-docs/stable/) to find functions or methods you might not have used yet, or ask questions on [Stack Overflow](http://stackoverflow.com/) and tag them as pandas and python related. And of course, the discussion forums are open for interaction with your peers and the course staff.\n",
    "#作业3-更多的pandas功能\n",
    "本作业中的所有的问题权值是相同的。该作业要求更独立的个人学习然后至少完成一个-检查pandas文档是值得鼓励的，用以找到你以前没有用过的函数或者方法，或者在stack overflow提问并标记为pandas与python相关。当然，讨论组是开放的用语和你的同学以及课程职工交流。"
   ]
  },
  {
   "cell_type": "markdown",
   "metadata": {},
   "source": [
    "### Question 1 (20%)\n",
    "Load the energy data from the file `Energy Indicators.xls`, which is a list of indicators of [energy supply and renewable electricity production](Energy%20Indicators.xls) from the [United Nations](http://unstats.un.org/unsd/environment/excel_file_tables/2013/Energy%20Indicators.xls) for the year 2013, and should be put into a DataFrame with the variable name of **energy**.\n",
    "\n",
    "Keep in mind that this is an Excel file, and not a comma separated values file. Also, make sure to exclude the footer and header information from the datafile. The first two columns are unneccessary, so you should get rid of them, and you should change the column labels so that the columns are:\n",
    "\n",
    "`['Country', 'Energy Supply', 'Energy Supply per Capita', '% Renewable]`\n",
    "\n",
    "Convert `Energy Supply` to gigajoules (there are 1,000,000 gigajoules in a petajoule). For all countries which have missing data (e.g. data with \"...\") make sure this is reflected as `np.NaN` values.\n",
    "\n",
    "Rename the following list of countries (for use in later questions):\n",
    "\n",
    "```\"Republic of Korea\": \"South Korea\",\n",
    "\"United States of America\": \"United States\",\n",
    "\"United Kingdom of Great Britain and Northern Ireland\": \"United Kingdom\",\n",
    "\"China, Hong Kong Special Administrative Region\": \"Hong Kong\"```\n",
    "\n",
    "There are also several countries with numbers and/or parenthesis in their name. Be sure to remove these, e.g. `'Bolivia (Plurinational State of)'` should be `'Bolivia'`.\n",
    "\n",
    "<br>\n",
    "\n",
    "Next, load the GDP data from the file `world_bank.csv`, which is a csv containing countries' GDP from 1960 to 2015 from [World Bank](http://data.worldbank.org/indicator/NY.GDP.MKTP.CD). Call this DataFrame **GDP**. \n",
    "\n",
    "Make sure to skip the header, and rename the following list of countries:\n",
    "\n",
    "```\"Korea, Rep.\": \"South Korea\", \n",
    "\"Iran, Islamic Rep.\": \"Iran\",\n",
    "\"Hong Kong SAR, China\": \"Hong Kong\"```\n",
    "\n",
    "<br>\n",
    "\n",
    "Finally, load the [Sciamgo Journal and Country Rank data for Energy Engineering and Power Technology](http://www.scimagojr.com/countryrank.php?category=2102) from the file `scimagojr-3.xlsx`, which ranks countries based on their journal contributions in the aforementioned area. Call this DataFrame **ScimEn**.\n",
    "\n",
    "Join the three datasets: GDP, Energy, and ScimEn into a new dataset (using the intersection of country names). Use only the last 10 years (2006-2015) of GDP data and only the top 15 countries by Scimagojr 'Rank' (Rank 1 through 15). \n",
    "\n",
    "The index of this DataFrame should be the name of the country, and the columns should be ['Rank', 'Documents', 'Citable documents', 'Citations', 'Self-citations',\n",
    "       'Citations per document', 'H index', 'Energy Supply',\n",
    "       'Energy Supply per Capita', '% Renewable', '2006', '2007', '2008',\n",
    "       '2009', '2010', '2011', '2012', '2013', '2014', '2015'].\n",
    "\n",
    "*This function should return a DataFrame with 20 columns and 15 entries.*"
   ]
  },
  {
   "cell_type": "code",
   "execution_count": null,
   "metadata": {
    "collapsed": false
   },
   "outputs": [],
   "source": [
    "import pandas as pd\n",
    "import numpy as np\n",
    "    \n",
    "def answer_one():\n",
    "    \n",
    "    \n",
    "    Energy = pd.read_excel('Energy Indicators.xls', skiprows=17,  index_col=0, skip_footer=(283-245), \n",
    "                        parse_cols=('B:G'), names=['Country', 'Energy Supply', 'Energy Supply per Capita', '% Renewable'])\n",
    "    Energy.replace(to_replace='...', value=np.NaN, inplace=True)\n",
    "\n",
    "    Energy.replace(Energy['Energy Supply'].values, Energy['Energy Supply'].values* 10**6, inplace=True)\n",
    "\n",
    "\n",
    "\n",
    "    Energy.reset_index(drop=True, inplace=True)\n",
    "    Energy.set_index('Country', drop=True, inplace=True)\n",
    "    Energy.rename(index={\"Republic of Korea\": \"South Korea\",\n",
    "    \"United States of America20\": \"United States\", \"United Kingdom of Great Britain and Northern Ireland19\": \"United Kingdom\",\n",
    "    \"China, Hong Kong Special Administrative Region3\": \"Hong Kong\", 'Australia1': 'Australia', 'China2': 'China', \n",
    "                          'Japan10': 'Japan', 'France6': 'France', 'Italy9': 'Italy', 'Spain16': 'Spain', \n",
    "                          'Iran (Islamic Republic of)': 'Iran', 'Australia1': 'Australia'}, inplace=True)\n",
    "\n",
    "    GDP =  pd.read_csv('world_bank.csv', skiprows=4, index_col=0, usecols=[0, 50,51, 52, 53, 54, 55, 56, 57, 58, 59])\n",
    "    GDP.rename(index={\"Korea, Rep.\": \"South Korea\", \n",
    "    \"Iran, Islamic Rep.\": \"Iran\",\n",
    "    \"Hong Kong SAR, China\": \"Hong Kong\"}, inplace=True)\n",
    "\n",
    "\n",
    "\n",
    "    ScimEn = pd.read_excel('scimagojr-3.xlsx')\n",
    "    ScimEn.set_index('Country', drop=True, inplace=True)\n",
    "    ScimEn = ScimEn.iloc[:15]\n",
    "\n",
    "    df_1 = pd.merge(ScimEn, Energy, how='left', left_index =True, right_index=True)\n",
    "    df = pd.merge(df_1, GDP, how='left', left_index =True, right_index=True)\n",
    "    \n",
    "\n",
    "    return df\n",
    "answer_one()"
   ]
  },
  {
   "cell_type": "code",
   "execution_count": null,
   "metadata": {},
   "outputs": [],
   "source": [
    "print('see you again')"
   ]
  },
  {
   "cell_type": "markdown",
   "metadata": {},
   "source": [
    "### Question 2 (6.6%)\n",
    "The previous question joined three datasets then reduced this to just the top 15 entries. When you joined the datasets, but before you reduced this to the top 15 items, how many entries did you lose?\n",
    "\n",
    "*This function should return a single number.*"
   ]
  },
  {
   "cell_type": "code",
   "execution_count": 2,
   "metadata": {
    "collapsed": false
   },
   "outputs": [
    {
     "data": {
      "text/html": [
       "<svg width=\"800\" height=\"300\">\n",
       "  <circle cx=\"150\" cy=\"180\" r=\"80\" fill-opacity=\"0.2\" stroke=\"black\" stroke-width=\"2\" fill=\"blue\" />\n",
       "  <circle cx=\"200\" cy=\"100\" r=\"80\" fill-opacity=\"0.2\" stroke=\"black\" stroke-width=\"2\" fill=\"red\" />\n",
       "  <circle cx=\"100\" cy=\"100\" r=\"80\" fill-opacity=\"0.2\" stroke=\"black\" stroke-width=\"2\" fill=\"green\" />\n",
       "  <line x1=\"150\" y1=\"125\" x2=\"300\" y2=\"150\" stroke=\"black\" stroke-width=\"2\" fill=\"black\" stroke-dasharray=\"5,3\"/>\n",
       "  <text  x=\"300\" y=\"165\" font-family=\"Verdana\" font-size=\"35\">Everything but this!</text>\n",
       "</svg>"
      ],
      "text/plain": [
       "<IPython.core.display.HTML object>"
      ]
     },
     "metadata": {},
     "output_type": "execute_result"
    }
   ],
   "source": [
    "%%HTML\n",
    "<svg width=\"800\" height=\"300\">\n",
    "  <circle cx=\"150\" cy=\"180\" r=\"80\" fill-opacity=\"0.2\" stroke=\"black\" stroke-width=\"2\" fill=\"blue\" />\n",
    "  <circle cx=\"200\" cy=\"100\" r=\"80\" fill-opacity=\"0.2\" stroke=\"black\" stroke-width=\"2\" fill=\"red\" />\n",
    "  <circle cx=\"100\" cy=\"100\" r=\"80\" fill-opacity=\"0.2\" stroke=\"black\" stroke-width=\"2\" fill=\"green\" />\n",
    "  <line x1=\"150\" y1=\"125\" x2=\"300\" y2=\"150\" stroke=\"black\" stroke-width=\"2\" fill=\"black\" stroke-dasharray=\"5,3\"/>\n",
    "  <text  x=\"300\" y=\"165\" font-family=\"Verdana\" font-size=\"35\">Everything but this!</text>\n",
    "</svg>"
   ]
  },
  {
   "cell_type": "code",
   "execution_count": 3,
   "metadata": {
    "collapsed": false
   },
   "outputs": [],
   "source": [
    "def answer_two():\n",
    "    return \"ANSWER\""
   ]
  },
  {
   "cell_type": "markdown",
   "metadata": {},
   "source": [
    "<br>\n",
    "\n",
    "Answer the following questions in the context of only the top 15 countries by Scimagojr Rank (aka the DataFrame returned by `answer_one()`)"
   ]
  },
  {
   "cell_type": "markdown",
   "metadata": {},
   "source": [
    "### Question 3 (6.6%)\n",
    "What is the average GDP over the last 10 years for each country?\n",
    "\n",
    "*This function should return a Series named `avgGDP` with 15 countries and their average GDP sorted in descending order.*"
   ]
  },
  {
   "cell_type": "code",
   "execution_count": 4,
   "metadata": {
    "collapsed": false,
    "scrolled": true
   },
   "outputs": [],
   "source": [
    "def answer_three():\n",
    "    Top15 = answer_one()\n",
    "    import pandas as pd\n",
    "    import numpy as np\n",
    "    t = answer_one()[['2006', '2007', '2008', '2009', '2010', '2011', '2012', '2013', '2014', '2015']]\n",
    "    df = pd.Series([(t['2006'].values+ t['2007'].values+ t['2008'].values+ t['2009'].values,\n",
    "                        t['2010'].values+ t['2011'].values+ t['2012'].values+ t['2013'].values,\n",
    "                        t['2014'].values+ t['2015'].values) / len(t)], \n",
    "                   index=t.index)\n",
    "    df\n",
    "    return \"ANSWER\""
   ]
  },
  {
   "cell_type": "markdown",
   "metadata": {},
   "source": [
    "### Question 4 (6.6%)\n",
    "By how much had the GDP changed over the 10 year span for the country with the 6th largest average GDP?\n",
    "\n",
    "*This function should return a single number.*"
   ]
  },
  {
   "cell_type": "code",
   "execution_count": 5,
   "metadata": {
    "collapsed": false,
    "scrolled": true
   },
   "outputs": [],
   "source": [
    "def answer_four():\n",
    "    Top15 = answer_one()\n",
    "    return \"ANSWER\""
   ]
  },
  {
   "cell_type": "markdown",
   "metadata": {},
   "source": [
    "### Question 5 (6.6%)\n",
    "What is the mean energy supply per capita?\n",
    "\n",
    "*This function should return a single number.*"
   ]
  },
  {
   "cell_type": "code",
   "execution_count": 6,
   "metadata": {
    "collapsed": false
   },
   "outputs": [
    {
     "data": {
      "text/plain": [
       "38200119.399999999"
      ]
     },
     "execution_count": 6,
     "metadata": {},
     "output_type": "execute_result"
    }
   ],
   "source": [
    "def answer_five():\n",
    "    Top15 = answer_one()\n",
    "    mean = np.mean(Top15.iloc[:]['Energy Supply per Capita'])\n",
    "    return mean\n",
    "answer_five()"
   ]
  },
  {
   "cell_type": "markdown",
   "metadata": {},
   "source": [
    "### Question 6 (6.6%)\n",
    "What country has the maximum % Renewable and what is the percentage?\n",
    "\n",
    "*This function should return a tuple with the name of the country and the percentage.*"
   ]
  },
  {
   "cell_type": "code",
   "execution_count": 7,
   "metadata": {
    "collapsed": false
   },
   "outputs": [
    {
     "data": {
      "text/plain": [
       "('Brazil', 69.648030000000006)"
      ]
     },
     "execution_count": 7,
     "metadata": {},
     "output_type": "execute_result"
    }
   ],
   "source": [
    "def answer_six():\n",
    "    import pandas as pd\n",
    "    Top15 = answer_one()\n",
    "\n",
    "    t = answer_one()\n",
    "    df = t.where(t['% Renewable'] == max(t['% Renewable'].values)).dropna()\n",
    "    a = (df.iloc[0].name, df.iloc[0]['% Renewable'])\n",
    "    \n",
    "    return a\n",
    "answer_six()"
   ]
  },
  {
   "cell_type": "markdown",
   "metadata": {},
   "source": [
    "### Question 7 (6.6%)\n",
    "Create a new column that is the ratio of Self-Citations to Total Citations. \n",
    "What is the maximum value for this new column, and what country has the highest ratio?\n",
    "\n",
    "*This function should return a tuple with the name of the country and the ratio.*"
   ]
  },
  {
   "cell_type": "code",
   "execution_count": 8,
   "metadata": {
    "collapsed": false
   },
   "outputs": [
    {
     "name": "stderr",
     "output_type": "stream",
     "text": [
      "/opt/conda/lib/python3.5/site-packages/ipykernel/__main__.py:5: FutureWarning: sort(columns=....) is deprecated, use sort_values(by=.....)\n"
     ]
    },
    {
     "data": {
      "text/plain": [
       "('China', 0.68931261793894216)"
      ]
     },
     "execution_count": 8,
     "metadata": {},
     "output_type": "execute_result"
    }
   ],
   "source": [
    "def answer_seven():\n",
    "    Top15 = answer_one()\n",
    "    t = answer_one()\n",
    "    t['ratio'] = t['Self-citations'] / t['Citations']\n",
    "    t.sort(columns='ratio', ascending=False, inplace=True)\n",
    "    a = (t.iloc[0].name, t.iloc[0]['ratio'])\n",
    "    \n",
    "    return a\n",
    "answer_seven()"
   ]
  },
  {
   "cell_type": "code",
   "execution_count": 9,
   "metadata": {
    "collapsed": false
   },
   "outputs": [
    {
     "name": "stderr",
     "output_type": "stream",
     "text": [
      "/opt/conda/lib/python3.5/site-packages/ipykernel/__main__.py:5: FutureWarning: sort(columns=....) is deprecated, use sort_values(by=.....)\n"
     ]
    },
    {
     "data": {
      "text/plain": [
       "'Russian Federation'"
      ]
     },
     "execution_count": 9,
     "metadata": {},
     "output_type": "execute_result"
    }
   ],
   "source": [
    "def answer_eight():\n",
    "    Top15 = answer_one()\n",
    "    t = answer_one()\n",
    "    t['pop'] = t['Energy Supply'] / t['Energy Supply per Capita']\n",
    "    t.sort(columns='pop', ascending=False, inplace=True)\n",
    "    \n",
    "    return t.iloc[2].name\n",
    "answer_eight()"
   ]
  },
  {
   "cell_type": "markdown",
   "metadata": {},
   "source": [
    "### Question 8 (6.6%)\n",
    "\n",
    "Create a column that estimates the population using Energy Supply and Energy Supply per capita. \n",
    "What is the third most populous country according to this estimate?\n",
    "\n",
    "*This function should return a single string value.*"
   ]
  },
  {
   "cell_type": "markdown",
   "metadata": {},
   "source": [
    "### Question 9\n",
    "Create a column that estimates the number of citable documents per person. \n",
    "What is the correlation between the number of citable documents per capita and the energy supply per capita? Use the `.corr()` method, (Pearson's correlation).\n",
    "\n",
    "*This function should return a single number.*\n",
    "\n",
    "*(Optional: Use the built-in function `plot9()` to visualize the relationship between Energy Supply per Capita vs. Citable docs per Capita)*"
   ]
  },
  {
   "cell_type": "code",
   "execution_count": 10,
   "metadata": {
    "collapsed": false
   },
   "outputs": [
    {
     "data": {
      "text/plain": [
       "0.96483232918546913"
      ]
     },
     "execution_count": 10,
     "metadata": {},
     "output_type": "execute_result"
    }
   ],
   "source": [
    "def answer_nine():\n",
    "    Top15 = answer_one()\n",
    "    Top15['PopEst'] = Top15['Energy Supply'] / Top15['Energy Supply per Capita']\n",
    "    Top15['Citable docs per Capita'] = Top15['Citable documents'] / Top15['PopEst']\n",
    "    df = Top15.pivot_table(values=['Citable docs per Capita', 'Energy Supply per Capita'], index=Top15.index)\n",
    "    value = df.corr(method='pearson')\n",
    "    return value.loc['Citable docs per Capita']['Energy Supply per Capita']\n",
    "answer_nine()"
   ]
  },
  {
   "cell_type": "code",
   "execution_count": 11,
   "metadata": {
    "collapsed": false
   },
   "outputs": [
    {
     "name": "stderr",
     "output_type": "stream",
     "text": [
      "/opt/conda/lib/python3.5/site-packages/matplotlib/font_manager.py:273: UserWarning: Matplotlib is building the font cache using fc-list. This may take a moment.\n",
      "  warnings.warn('Matplotlib is building the font cache using fc-list. This may take a moment.')\n",
      "/opt/conda/lib/python3.5/site-packages/matplotlib/font_manager.py:273: UserWarning: Matplotlib is building the font cache using fc-list. This may take a moment.\n",
      "  warnings.warn('Matplotlib is building the font cache using fc-list. This may take a moment.')\n"
     ]
    },
    {
     "data": {
      "image/png": "iVBORw0KGgoAAAANSUhEUgAAAjkAAAGBCAYAAACEmqDoAAAABHNCSVQICAgIfAhkiAAAAAlwSFlz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\nSUVORK5CYII=\n",
      "text/plain": [
       "<matplotlib.figure.Figure at 0x7f656bd300b8>"
      ]
     },
     "metadata": {},
     "output_type": "display_data"
    }
   ],
   "source": [
    "def plot9():\n",
    "    import matplotlib as plt\n",
    "    %matplotlib inline\n",
    "    \n",
    "    Top15 = answer_one()\n",
    "    Top15['PopEst'] = Top15['Energy Supply'] / Top15['Energy Supply per Capita']\n",
    "    Top15['Citable docs per Capita'] = Top15['Citable documents'] / Top15['PopEst']\n",
    "    Top15.plot(x='Citable docs per Capita', y='Energy Supply per Capita', kind='scatter', xlim=[0, 0.0006])\n",
    "plot9()"
   ]
  },
  {
   "cell_type": "code",
   "execution_count": 129,
   "metadata": {
    "collapsed": false
   },
   "outputs": [],
   "source": [
    "#plot9() # Be sure to comment out plot9() before submitting the assignment!"
   ]
  },
  {
   "cell_type": "markdown",
   "metadata": {},
   "source": [
    "### Question 10 (6.6%)\n",
    "Create a new column with a 1 if the country's % Renewable value is at or above the median for all countries in the top 15, and a 0 if the country's % Renewable value is below the median.\n",
    "\n",
    "*This function should return a series named `HighRenew` whose index is the country name sorted in ascending order of rank.*"
   ]
  },
  {
   "cell_type": "code",
   "execution_count": 12,
   "metadata": {
    "collapsed": false
   },
   "outputs": [
    {
     "data": {
      "text/plain": [
       "(Country\n",
       " China                 a 1\n",
       " United States         a 1\n",
       " Japan                 a 1\n",
       " United Kingdom        a 1\n",
       " Russian Federation    a 1\n",
       " Canada                a 0\n",
       " Germany               a 1\n",
       " India                 a 1\n",
       " France                a 1\n",
       " South Korea           NaN\n",
       " Italy                 a 0\n",
       " Spain                 a 0\n",
       " Iran                  a 1\n",
       " Australia             a 1\n",
       " Brazil                a 0\n",
       " Name: % Renewable, dtype: category\n",
       " Categories (2, object): [a 1 < a 0],\n",
       " array([  2.279353  ,  22.82439427,  69.64803   ]))"
      ]
     },
     "execution_count": 12,
     "metadata": {},
     "output_type": "execute_result"
    }
   ],
   "source": [
    "def answer_ten():\n",
    "    Top15 = answer_one()\n",
    "    df = pd.cut(Top15['% Renewable'], bins=[np.min(Top15['% Renewable']),np.mean(Top15['% Renewable']), \n",
    "                                       np.max(Top15['% Renewable'])], labels=['a 1', 'a 0'], retbins=True)\n",
    "    return df\n",
    "answer_ten()"
   ]
  },
  {
   "cell_type": "markdown",
   "metadata": {},
   "source": [
    "### Question 11 (6.6%)\n",
    "Use the following dictionary to group the Countries by Continent, then create a dateframe that displays the sample size (the number of countries in each continent bin), and the sum, mean, and std deviation for the estimated population of each country.\n",
    "\n",
    "```python\n",
    "ContinentDict  = {'China':'Asia', \n",
    "                  'United States':'North America', \n",
    "                  'Japan':'Asia', \n",
    "                  'United Kingdom':'Europe', \n",
    "                  'Russian Federation':'Europe', \n",
    "                  'Canada':'North America', \n",
    "                  'Germany':'Europe', \n",
    "                  'India':'Asia',\n",
    "                  'France':'Europe', \n",
    "                  'South Korea':'Asia', \n",
    "                  'Italy':'Europe', \n",
    "                  'Spain':'Europe', \n",
    "                  'Iran':'Asia',\n",
    "                  'Australia':'Australia', \n",
    "                  'Brazil':'South America'}\n",
    "```\n",
    "\n",
    "*This function should return a DataFrame with index named Continent `['Asia', 'Australia', 'Europe', 'North America', 'South America']` and columns `['size', 'sum', 'mean', 'std']`*"
   ]
  },
  {
   "cell_type": "code",
   "execution_count": 13,
   "metadata": {
    "collapsed": false
   },
   "outputs": [
    {
     "data": {
      "text/html": [
       "<div>\n",
       "<table border=\"1\" class=\"dataframe\">\n",
       "  <thead>\n",
       "    <tr>\n",
       "      <th></th>\n",
       "      <th>size</th>\n",
       "      <th>sum</th>\n",
       "      <th>mean</th>\n",
       "      <th>std</th>\n",
       "    </tr>\n",
       "    <tr>\n",
       "      <th></th>\n",
       "      <th></th>\n",
       "      <th></th>\n",
       "      <th></th>\n",
       "      <th></th>\n",
       "    </tr>\n",
       "    <tr>\n",
       "      <th>Continent</th>\n",
       "      <th></th>\n",
       "      <th></th>\n",
       "      <th></th>\n",
       "      <th></th>\n",
       "    </tr>\n",
       "  </thead>\n",
       "  <tbody>\n",
       "    <tr>\n",
       "      <th>Asia</th>\n",
       "      <td>5</td>\n",
       "      <td>1.403613e+09</td>\n",
       "      <td>2.807227e+08</td>\n",
       "      <td>5.577716e+08</td>\n",
       "    </tr>\n",
       "    <tr>\n",
       "      <th>Australia</th>\n",
       "      <td>1</td>\n",
       "      <td>2.331602e+07</td>\n",
       "      <td>2.331602e+07</td>\n",
       "      <td>NaN</td>\n",
       "    </tr>\n",
       "    <tr>\n",
       "      <th>Europe</th>\n",
       "      <td>6</td>\n",
       "      <td>3.476490e+08</td>\n",
       "      <td>5.794151e+07</td>\n",
       "      <td>5.399394e+07</td>\n",
       "    </tr>\n",
       "    <tr>\n",
       "      <th>North America</th>\n",
       "      <td>2</td>\n",
       "      <td>3.528552e+08</td>\n",
       "      <td>1.764276e+08</td>\n",
       "      <td>1.996696e+08</td>\n",
       "    </tr>\n",
       "    <tr>\n",
       "      <th>South America</th>\n",
       "      <td>1</td>\n",
       "      <td>2.059153e+02</td>\n",
       "      <td>2.059153e+02</td>\n",
       "      <td>NaN</td>\n",
       "    </tr>\n",
       "  </tbody>\n",
       "</table>\n",
       "</div>"
      ],
      "text/plain": [
       "              size           sum          mean           std\n",
       "                                                            \n",
       "Continent                                                   \n",
       "Asia             5  1.403613e+09  2.807227e+08  5.577716e+08\n",
       "Australia        1  2.331602e+07  2.331602e+07           NaN\n",
       "Europe           6  3.476490e+08  5.794151e+07  5.399394e+07\n",
       "North America    2  3.528552e+08  1.764276e+08  1.996696e+08\n",
       "South America    1  2.059153e+02  2.059153e+02           NaN"
      ]
     },
     "execution_count": 13,
     "metadata": {},
     "output_type": "execute_result"
    }
   ],
   "source": [
    "def answer_eleven():\n",
    "    Top15 = answer_one()\n",
    "    df = pd.Series({'China':'Asia', \n",
    "                  'United States':'North America', \n",
    "                  'Japan':'Asia', \n",
    "                  'United Kingdom':'Europe', \n",
    "                  'Russian Federation':'Europe', \n",
    "                  'Canada':'North America', \n",
    "                  'Germany':'Europe', \n",
    "                  'India':'Asia',\n",
    "                  'France':'Europe', \n",
    "                  'South Korea':'Asia', \n",
    "                  'Italy':'Europe', \n",
    "                  'Spain':'Europe', \n",
    "                  'Iran':'Asia',\n",
    "                  'Australia':'Australia', \n",
    "                  'Brazil':'South America'})\n",
    "    df = pd.DataFrame(df)\n",
    "    df['PopEst'] = Top15['Energy Supply'] / Top15['Energy Supply per Capita']\n",
    "    df.reset_index(inplace=True)\n",
    "    grouped = df.groupby(0)\n",
    "    df_1 = grouped.agg([ np.sum, np.mean, np.std])\n",
    "    df_1['size'] = grouped.size()\n",
    "    df_1['sum'] = df_1['PopEst']['sum']\n",
    "\n",
    "    df_1['mean'] = df_1['PopEst']['mean']\n",
    "    df_1['std'] =df_1['PopEst']['std']\n",
    "    del df_1['PopEst']\n",
    "    df_1.index.name = 'Continent'\n",
    "    return df_1\n",
    "answer_eleven()"
   ]
  },
  {
   "cell_type": "markdown",
   "metadata": {},
   "source": [
    "### Question 12 (6.6%)\n",
    "Cut % Renewable into 5 bins. Group Top15 by the Continent, as well as these new % Renewable bins. How many countries are in each of these groups?\n",
    "\n",
    "*This function should return a Series with a MultiIndex of `Continent`, then the bins for `% Renewable`. Do not include groups with no countries.*"
   ]
  },
  {
   "cell_type": "code",
   "execution_count": 14,
   "metadata": {
    "collapsed": false,
    "scrolled": true
   },
   "outputs": [],
   "source": [
    "def answer_twelve():\n",
    "    Top15 = answer_one()\n",
    "    return \"ANSWER\""
   ]
  },
  {
   "cell_type": "markdown",
   "metadata": {},
   "source": [
    "### Question 13 (6.6%)\n",
    "Convert the Population Estimate series to a string with thousands separator (using commas). Do not round the results.\n",
    "\n",
    "e.g. 317615384.61538464 -> 317,615,384.61538464\n",
    "\n",
    "*This function should return a Series `PopEst` whose index is the country name and whose values are the population estimate string.*"
   ]
  },
  {
   "cell_type": "code",
   "execution_count": 15,
   "metadata": {
    "collapsed": false,
    "scrolled": true
   },
   "outputs": [],
   "source": [
    "def answer_thirteen():\n",
    "    Top15 = answer_one()\n",
    "    return \"ANSWER\""
   ]
  },
  {
   "cell_type": "markdown",
   "metadata": {},
   "source": [
    "### Optional\n",
    "\n",
    "Use the built in function `plot_optional()` to see an example visualization."
   ]
  },
  {
   "cell_type": "code",
   "execution_count": 16,
   "metadata": {
    "collapsed": false,
    "scrolled": true
   },
   "outputs": [],
   "source": [
    "def plot_optional():\n",
    "    import matplotlib as plt\n",
    "    %matplotlib inline\n",
    "    Top15 = answer_one()\n",
    "    ax = Top15.plot(x='Rank', y='% Renewable', kind='scatter', \n",
    "                    c=['#e41a1c','#377eb8','#e41a1c','#4daf4a','#4daf4a','#377eb8','#4daf4a','#e41a1c',\n",
    "                       '#4daf4a','#e41a1c','#4daf4a','#4daf4a','#e41a1c','#dede00','#ff7f00'], \n",
    "                    xticks=range(1,16), s=6*Top15['2014']/10**10, alpha=.75, figsize=[16,6]);\n",
    "\n",
    "    for i, txt in enumerate(Top15.index):\n",
    "        ax.annotate(txt, [Top15['Rank'][i], Top15['% Renewable'][i]], ha='center')\n",
    "\n",
    "    print(\"This is an example of a visualization that can be created to help understand the data. \\\n",
    "This is a bubble chart showing % Renewable vs. Rank. The size of the bubble corresponds to the countries' \\\n",
    "2014 GDP, and the color corresponds to the continent.\")"
   ]
  },
  {
   "cell_type": "code",
   "execution_count": 135,
   "metadata": {
    "collapsed": false
   },
   "outputs": [],
   "source": [
    "#plot_optional() # Be sure to comment out plot_optional() before submitting the assignment!"
   ]
  }
 ],
 "metadata": {
  "anaconda-cloud": {},
  "coursera": {
   "course_slug": "python-data-analysis",
   "graded_item_id": "zAr06",
   "launcher_item_id": "KSSjT",
   "part_id": "SL3fU"
  },
  "kernelspec": {
   "display_name": "Python 3",
   "language": "python",
   "name": "python3"
  },
  "language_info": {
   "codemirror_mode": {
    "name": "ipython",
    "version": 3.0
   },
   "file_extension": ".py",
   "mimetype": "text/x-python",
   "name": "python",
   "nbconvert_exporter": "python",
   "pygments_lexer": "ipython3",
   "version": "3.5.2"
  }
 },
 "nbformat": 4,
 "nbformat_minor": 0
}
