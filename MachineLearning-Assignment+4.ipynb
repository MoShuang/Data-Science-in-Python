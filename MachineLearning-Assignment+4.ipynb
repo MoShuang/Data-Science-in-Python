{
 "cells": [
  {
   "cell_type": "markdown",
   "metadata": {},
   "source": [
    "---\n",
    "\n",
    "_You are currently looking at **version 1.0** of this notebook. To download notebooks and datafiles, as well as get help on Jupyter notebooks in the Coursera platform, visit the [Jupyter Notebook FAQ](https://www.coursera.org/learn/python-machine-learning/resources/bANLa) course resource._\n",
    "\n",
    "---"
   ]
  },
  {
   "cell_type": "markdown",
   "metadata": {},
   "source": [
    "## Assignment 4 - Understanding and Predicting Property Maintenance Fines\n",
    "\n",
    "This assignment is based on a data challenge from the Michigan Data Science Team ([MDST](http://midas.umich.edu/mdst/)). \n",
    "\n",
    "The Michigan Data Science Team ([MDST](http://midas.umich.edu/mdst/)) and the Michigan Student Symposium for Interdisciplinary Statistical Sciences ([MSSISS](https://sites.lsa.umich.edu/mssiss/)) have partnered with the City of Detroit to help solve one of the most pressing problems facing Detroit - blight. [Blight violations](http://www.detroitmi.gov/How-Do-I/Report/Blight-Complaint-FAQs) are issued by the city to individuals who allow their properties to remain in a deteriorated condition. Every year, the city of Detroit issues millions of dollars in fines to residents and every year, many of these fines remain unpaid. Enforcing unpaid blight fines is a costly and tedious process, so the city wants to know: how can we increase blight ticket compliance?\n",
    "\n",
    "The first step in answering this question is understanding when and why a resident might fail to comply with a blight ticket. This is where predictive modeling comes in. For this assignment, your task is to predict whether a given blight ticket will be paid on time.\n",
    "\n",
    "All data for this assignment has been provided to us through the [Detroit Open Data Portal](https://data.detroitmi.gov/). **Only the data already included in your Coursera directory can be used for training the model for this assignment.** Nonetheless, we encourage you to look into data from other Detroit datasets to help inform feature creation and model selection. We recommend taking a look at the following related datasets:\n",
    "\n",
    "* [Building Permits](https://data.detroitmi.gov/Property-Parcels/Building-Permits/xw2a-a7tf)\n",
    "* [Trades Permits](https://data.detroitmi.gov/Property-Parcels/Trades-Permits/635b-dsgv)\n",
    "* [Improve Detroit: Submitted Issues](https://data.detroitmi.gov/Government/Improve-Detroit-Submitted-Issues/fwz3-w3yn)\n",
    "* [DPD: Citizen Complaints](https://data.detroitmi.gov/Public-Safety/DPD-Citizen-Complaints-2016/kahe-efs3)\n",
    "* [Parcel Map](https://data.detroitmi.gov/Property-Parcels/Parcel-Map/fxkw-udwf)\n",
    "\n",
    "___\n",
    "\n",
    "We provide you with two data files for use in training and validating your models: train.csv and test.csv. Each row in these two files corresponds to a single blight ticket, and includes information about when, why, and to whom each ticket was issued. The target variable is compliance, which is True if the ticket was paid early, on time, or within one month of the hearing data, False if the ticket was paid after the hearing date or not at all, and Null if the violator was found not responsible. Compliance, as well as a handful of other variables that will not be available at test-time, are only included in train.csv.\n",
    "\n",
    "Note: All tickets where the violators were found not responsible are not considered during evaluation. They are included in the training set as an additional source of data for visualization, and to enable unsupervised and semi-supervised approaches. However, they are not included in the test set.\n",
    "\n",
    "<br>\n",
    "\n",
    "**File descriptions** (Use only this data for training your model!)\n",
    "\n",
    "    train.csv - the training set (all tickets issued 2004-2011)\n",
    "    test.csv - the test set (all tickets issued 2012-2016)\n",
    "    addresses.csv & latlons.csv - mapping from ticket id to addresses, and from addresses to lat/lon coordinates. \n",
    "     Note: misspelled addresses may be incorrectly geolocated.\n",
    "\n",
    "<br>\n",
    "\n",
    "**Data fields**\n",
    "\n",
    "train.csv & test.csv\n",
    "\n",
    "    ticket_id - unique identifier for tickets\n",
    "    agency_name - Agency that issued the ticket\n",
    "    inspector_name - Name of inspector that issued the ticket\n",
    "    violator_name - Name of the person/organization that the ticket was issued to\n",
    "    violation_street_number, violation_street_name, violation_zip_code - Address where the violation occurred\n",
    "    mailing_address_str_number, mailing_address_str_name, city, state, zip_code, non_us_str_code, country - Mailing address of the violator\n",
    "    ticket_issued_date - Date and time the ticket was issued\n",
    "    hearing_date - Date and time the violator's hearing was scheduled\n",
    "    violation_code, violation_description - Type of violation\n",
    "    disposition - Judgment and judgement type\n",
    "    fine_amount - Violation fine amount, excluding fees\n",
    "    admin_fee - $20 fee assigned to responsible judgments\n",
    "state_fee - $10 fee assigned to responsible judgments\n",
    "    late_fee - 10% fee assigned to responsible judgments\n",
    "    discount_amount - discount applied, if any\n",
    "    clean_up_cost - DPW clean-up or graffiti removal cost\n",
    "    judgment_amount - Sum of all fines and fees\n",
    "    grafitti_status - Flag for graffiti violations\n",
    "    \n",
    "train.csv only\n",
    "\n",
    "    payment_amount - Amount paid, if any\n",
    "    payment_date - Date payment was made, if it was received\n",
    "    payment_status - Current payment status as of Feb 1 2017\n",
    "    balance_due - Fines and fees still owed\n",
    "    collection_status - Flag for payments in collections\n",
    "    compliance [target variable for prediction] \n",
    "     Null = Not responsible\n",
    "     0 = Responsible, non-compliant\n",
    "     1 = Responsible, compliant\n",
    "    compliance_detail - More information on why each ticket was marked compliant or non-compliant\n",
    "\n",
    "\n",
    "___\n",
    "\n",
    "## Evaluation\n",
    "\n",
    "Your predictions will be given as the probability that the corresponding blight ticket will be paid on time.\n",
    "\n",
    "The evaluation metric for this assignment is the Area Under the ROC Curve (AUC). \n",
    "\n",
    "Your grade will be based on the AUC score computed for your classifier. A model which with an AUROC of 0.7 passes this assignment, over 0.75 will recieve full points.\n",
    "___\n",
    "\n",
    "For this assignment, create a function that trains a model to predict blight ticket compliance in Detroit using `train.csv`. Using this model, return a series of length 61001 with the data being the probability that each corresponding ticket from `test.csv` will be paid, and the index being the ticket_id.\n",
    "\n",
    "Example:\n",
    "\n",
    "    ticket_id\n",
    "       284932    0.531842\n",
    "       285362    0.401958\n",
    "       285361    0.105928\n",
    "       285338    0.018572\n",
    "                 ...\n",
    "       376499    0.208567\n",
    "       376500    0.818759\n",
    "       369851    0.018528\n",
    "       Name: compliance, dtype: float32"
   ]
  },
  {
   "cell_type": "code",
   "execution_count": 68,
   "metadata": {
    "collapsed": false
   },
   "outputs": [
    {
     "name": "stderr",
     "output_type": "stream",
     "text": [
      "/opt/conda/lib/python3.5/site-packages/IPython/core/interactiveshell.py:2717: DtypeWarning: Columns (11,12,31) have mixed types. Specify dtype option on import or set low_memory=False.\n",
      "  interactivity=interactivity, compiler=compiler, result=result)\n"
     ]
    }
   ],
   "source": [
    "#Author:MoShuang"
    "import pandas as pd\n",
    "import numpy as np\n",
    "#import matplotlib.pyplot as plt\n",
    "#Representation data\n",
    "df_train = pd.read_csv('train.csv', encoding='ISO-8859-1')\n",
    "df_test = pd.read_csv('test.csv', encoding='ISO-8859-1')\n",
    "df_address = pd.read_csv('addresses.csv', encoding='ISO-8859-1')\n",
    "df_latlon = pd.read_csv('latlons.csv', encoding='ISO-8859-1')\n"
   ]
  },
  {
   "cell_type": "code",
   "execution_count": 59,
   "metadata": {
    "collapsed": false
   },
   "outputs": [],
   "source": [
    "df_address_filter = pd.merge(df_address, df_latlon, on='address', \n",
    "                             how='outer').loc[:, ['ticket_id','lat', 'lon']]\n",
    "#df_address_filter.head()\n"
   ]
  },
  {
   "cell_type": "code",
   "execution_count": 122,
   "metadata": {
    "collapsed": false
   },
   "outputs": [],
   "source": [
    "df_train_filter = df_train.drop(axis=1, labels=['payment_amount', 'payment_date', \n",
    "                              'payment_status', 'balance_due', 'collection_status',\n",
    "                                               'compliance_detail'])\n",
    "#len(df_train_filter)->250,306\n",
    "#mask = df_train_filter[(df_train_filter.loc[:, 'compliance'] == 1)(df_train_filter == 0)]\n",
    "#df_train_filter['compliance'].dropna(inplace=True)\n",
    "df_train_filter = df_train_filter[~np.isnan(df_train_filter['compliance'])]\n",
    "#mask = df_train_filter[pd.notnull(df_train_filter['compliance'])] \n",
    "#notice np.nan as infinate in math, they can be same but not equal\n",
    "df_test_filter = df_test.copy()\n",
    "df_train_filter = df_train_filter.merge(df_address_filter, on='ticket_id', how='inner')\n",
    "df_test_filter = df_test_filter.merge(df_address_filter, on='ticket_id', how='inner')\n",
    "combine = [df_train_filter, df_test_filter]\n",
    "agency_mapping = {'Detroit Police Department' : 1, 'Department of Public Works' : 2,\n",
    "       'Health Department' : 3, 'Buildings, Safety Engineering & Env Department' : 4,\n",
    "       'Neighborhood City Halls' : 5}\n",
    "disposition_mapping = {'Responsible (Fine Waived) by Deter' : 1, 'Responsible by Determination' : 2,\n",
    "       'Responsible by Admission' : 3, 'Responsible by Default' : 4}\n",
    "country_mapping = {'Aust' : 1, 'Egyp' : 2, 'USA' : 3, 'Cana' : 4, 'Germ' : 5}\n",
    "for i in combine:\n",
    "    i['agency_name'] = i['agency_name'].map(agency_mapping)\n",
    "    i['disposition'] = i['disposition'].map(disposition_mapping)\n",
    "    i['country'] = i['country'].map(country_mapping)\n",
    "    i.drop(axis=1, labels=['inspector_name', 'violator_name', 'grafitti_status',\n",
    "                          'violation_description', 'violation_street_number',\n",
    "                          'violation_street_name', 'violation_zip_code','mailing_address_str_number',\n",
    "                          'mailing_address_str_name', 'city', 'state', 'zip_code','non_us_str_code',\n",
    "                          'violation_code', 'ticket_issued_date', 'hearing_date', 'clean_up_cost'], inplace=True)\n",
    "    i.set_index('ticket_id', inplace=True)\n",
    "    #i.dropna(inplace=True)\n",
    "df_train_filter = df_train_filter.fillna(method='pad', axis=1)\n",
    "df_test_filter = df_test_filter.fillna(method='pad', axis=1)\n",
    "    #i.merge(df_address_filter, on='ticket_id', how='outer') :for some cannot merge in loop\n"
   ]
  },
  {
   "cell_type": "code",
   "execution_count": 61,
   "metadata": {
    "collapsed": true
   },
   "outputs": [],
   "source": [
    "df_train_filter.dropna(inplace=True)\n",
    "df_test_filter.dropna(inplace=True)"
   ]
  },
  {
   "cell_type": "code",
   "execution_count": 62,
   "metadata": {
    "collapsed": false,
    "scrolled": true
   },
   "outputs": [],
   "source": [
    "#df_train_filter.head().iloc[:, :14]#['violator_address_number','mailing_address_str_name']]\n",
    "#df_train_filter[['clean_up_cost', 'compliance']].groupby(['clean_up_cost']).mean().sort_values(\n",
    "#                by='compliance', ascending=False)\n",
    "#clean_up_cost: nan, 0\n",
    "#violation_code:189\n",
    "#non_us_str_code: 3: nan, Australia:1, ONTARIO, Canada:2\n",
    "#zip_code:4,622\n",
    "#state:59 the total US states\n",
    "#city:4,093\n",
    "#mailing_address_str_name:28,440\n",
    "#mailing_address_str_number:14,090\n",
    "#violation_zip_code: null\n",
    "#violation_street_number: 18,096\n",
    "#violation_street_name: 1,716\n",
    "#lat,lon:111,494\n",
    "#inspector_name-> total: 159, 0:26\n",
    "#violation_description -> total: 207\n",
    "#type(df_train_filter.loc[2, 'compliance'])\n",
    "#df_train_filter.loc[:, ['ticket_issued_date', 'hearing_date']]\n",
    "#df_train_filter['ticket_issued_date'].astype(np.datetime64) - df_train_filter['hearing_date'].astype(np.datetime64)\n",
    "#df_train_filter['hearing_date'].astype(np.datetime64)"
   ]
  },
  {
   "cell_type": "code",
   "execution_count": 63,
   "metadata": {
    "collapsed": false
   },
   "outputs": [],
   "source": [
    "df_X = df_train_filter.drop(axis=1, labels='compliance')\n",
    "df_y = df_train_filter.loc[:, 'compliance']"
   ]
  },
  {
   "cell_type": "code",
   "execution_count": 64,
   "metadata": {
    "collapsed": true
   },
   "outputs": [],
   "source": [
    "def model_train(clf):\n",
    "    y_predicted = clf().fit(X_train, y_train).predict(X_test)\n",
    "    return y_predicted"
   ]
  },
  {
   "cell_type": "code",
   "execution_count": 85,
   "metadata": {
    "collapsed": false
   },
   "outputs": [],
   "source": [
    "#Train model\n",
    "#import matplotlib.pyplot as plt\n",
    "from sklearn.model_selection import train_test_split\n",
    "from sklearn.preprocessing import MinMaxScaler\n",
    "from sklearn.tree import DecisionTreeClassifier\n",
    "from sklearn.dummy import DummyClassifier\n",
    "from sklearn.neighbors import KNeighborsClassifier, KNeighborsRegressor\n",
    "from sklearn.svm import SVC, LinearSVC\n",
    "from sklearn.linear_model import LinearRegression, Ridge, Lasso, LogisticRegression\n",
    "from adspy_shared_utilities import plot_decision_tree, plot_feature_importances\n",
    "from sklearn.naive_bayes import GaussianNB\n",
    "from sklearn.ensemble import RandomForestClassifier, GradientBoostingClassifier\n",
    "from sklearn.neural_network import MLPClassifier, MLPRegressor\n",
    "\n",
    "scaler = MinMaxScaler()\n",
    "X_train, X_test, y_train, y_test = train_test_split(df_X, df_y, random_state=0)\n",
    "#X_train = scaler.fit_transform(X_train)\n",
    "#X_test = scaler.transform(X_test)\n",
    "\n",
    "#clf = DecisionTreeClassifier().fit(X_train, y_train)\n",
    "#clf.predict_proba?\n",
    "#y_predicted = model_train(RandomForestClassifier)\n",
    "#clf.score(X_test, y_test )\n",
    "#plot_decision_tree(clf, X_train.columns, y_train.name) #series has name like columns\n",
    "#%notebook matplotlib\n",
    "#plt.figure()\n",
    "#plot_feature_importances(clf, X_train.columns)\n",
    "#plt.show()"
   ]
  },
  {
   "cell_type": "code",
   "execution_count": 66,
   "metadata": {
    "collapsed": false
   },
   "outputs": [],
   "source": [
    "#Model Evalution\n",
    "#from sklearn.metrics import auc, roc_auc_score\n",
    "#roc_auc_score(y_test, y_predicted)\n",
    "#by default\n",
    "#decision_tree->0.67\n",
    "#dummy0->0.5\n",
    "#knnclassifier->0.64\n",
    "#knnregression->0.74, but has no predict_proba\n",
    "#svc: time too long\n",
    "#linearsvc： 0.49\n",
    "#linearregression: 0.78, but has no predict_proba\n",
    "#Ridge: 0.78, has not too\n",
    "#lasso: 0.65, too\n",
    "#logistic: 0.55\n",
    "#gaussian: 0.63\n",
    "#random_forest: 0.66\n",
    "#gradient: 0.62\n",
    "#MLPClassifier: 0.67\n",
    "#MLPRegressor: 0.66\n",
    "\n",
    "#by normalization:\n",
    "#knnclassifier: 0.63\n",
    "#knnRegressor: 0.73\n",
    "#SVC: too long\n",
    "#linearsvc: 0.53\n",
    "#MLPREgressor: 0.78, but has not predict_proba"
   ]
  },
  {
   "cell_type": "code",
   "execution_count": 123,
   "metadata": {
    "collapsed": false
   },
   "outputs": [],
   "source": [
    "def blight_model():\n",
    "    \n",
    "    # Your code here\n",
    "    clf = RandomForestClassifier().fit(X_train, y_train)\n",
    "    y_predicted = clf.predict_proba(df_test_filter)\n",
    "    result = pd.Series(index=df_test_filter.index, name='compliance', data=y_predicted[:, 1])\n",
    "    return result# Your answer here\n",
    "blight_model()"
   ]
  },
  {
   "cell_type": "code",
   "execution_count": null,
   "metadata": {
    "collapsed": true
   },
   "outputs": [],
   "source": []
  }
 ],
 "metadata": {
  "coursera": {
   "course_slug": "python-machine-learning",
   "graded_item_id": "nNS8l",
   "launcher_item_id": "yWWk7",
   "part_id": "w8BSS"
  },
  "kernelspec": {
   "display_name": "Python 3",
   "language": "python",
   "name": "python3"
  },
  "language_info": {
   "codemirror_mode": {
    "name": "ipython",
    "version": 3
   },
   "file_extension": ".py",
   "mimetype": "text/x-python",
   "name": "python",
   "nbconvert_exporter": "python",
   "pygments_lexer": "ipython3",
   "version": "3.5.2"
  }
 },
 "nbformat": 4,
 "nbformat_minor": 2
}
